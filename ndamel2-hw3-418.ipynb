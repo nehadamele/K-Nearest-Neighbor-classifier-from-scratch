{
 "cells": [
  {
   "cell_type": "markdown",
   "id": "31b08335",
   "metadata": {},
   "source": [
    "**Importing required packages**"
   ]
  },
  {
   "cell_type": "code",
   "execution_count": 1,
   "id": "6ddc4fc0",
   "metadata": {},
   "outputs": [],
   "source": [
    "%matplotlib inline\n",
    "import numpy as np\n",
    "import pandas as pd\n",
    "import matplotlib.pyplot as plt\n",
    "import seaborn as sns\n",
    "sns.set_style('whitegrid')\n",
    "pd.set_option('display.max_columns', None)"
   ]
  },
  {
   "cell_type": "markdown",
   "id": "b86b6a45",
   "metadata": {},
   "source": [
    "## 1. Iris Dataset"
   ]
  },
  {
   "cell_type": "markdown",
   "id": "ef64557b",
   "metadata": {},
   "source": [
    "**Reading the Iris flower species dataset and Encoding the class labels**"
   ]
  },
  {
   "cell_type": "code",
   "execution_count": 2,
   "id": "550bb10a",
   "metadata": {},
   "outputs": [
    {
     "data": {
      "text/html": [
       "<div>\n",
       "<style scoped>\n",
       "    .dataframe tbody tr th:only-of-type {\n",
       "        vertical-align: middle;\n",
       "    }\n",
       "\n",
       "    .dataframe tbody tr th {\n",
       "        vertical-align: top;\n",
       "    }\n",
       "\n",
       "    .dataframe thead th {\n",
       "        text-align: right;\n",
       "    }\n",
       "</style>\n",
       "<table border=\"1\" class=\"dataframe\">\n",
       "  <thead>\n",
       "    <tr style=\"text-align: right;\">\n",
       "      <th></th>\n",
       "      <th>sepal_length</th>\n",
       "      <th>sepal_width</th>\n",
       "      <th>petal_length</th>\n",
       "      <th>petal_width</th>\n",
       "      <th>class_label</th>\n",
       "    </tr>\n",
       "  </thead>\n",
       "  <tbody>\n",
       "    <tr>\n",
       "      <th>0</th>\n",
       "      <td>5.1</td>\n",
       "      <td>3.5</td>\n",
       "      <td>1.4</td>\n",
       "      <td>0.2</td>\n",
       "      <td>Iris-setosa</td>\n",
       "    </tr>\n",
       "    <tr>\n",
       "      <th>1</th>\n",
       "      <td>4.9</td>\n",
       "      <td>3.0</td>\n",
       "      <td>1.4</td>\n",
       "      <td>0.2</td>\n",
       "      <td>Iris-setosa</td>\n",
       "    </tr>\n",
       "    <tr>\n",
       "      <th>2</th>\n",
       "      <td>4.7</td>\n",
       "      <td>3.2</td>\n",
       "      <td>1.3</td>\n",
       "      <td>0.2</td>\n",
       "      <td>Iris-setosa</td>\n",
       "    </tr>\n",
       "    <tr>\n",
       "      <th>3</th>\n",
       "      <td>4.6</td>\n",
       "      <td>3.1</td>\n",
       "      <td>1.5</td>\n",
       "      <td>0.2</td>\n",
       "      <td>Iris-setosa</td>\n",
       "    </tr>\n",
       "    <tr>\n",
       "      <th>4</th>\n",
       "      <td>5.0</td>\n",
       "      <td>3.6</td>\n",
       "      <td>1.4</td>\n",
       "      <td>0.2</td>\n",
       "      <td>Iris-setosa</td>\n",
       "    </tr>\n",
       "  </tbody>\n",
       "</table>\n",
       "</div>"
      ],
      "text/plain": [
       "   sepal_length  sepal_width  petal_length  petal_width  class_label\n",
       "0           5.1          3.5           1.4          0.2  Iris-setosa\n",
       "1           4.9          3.0           1.4          0.2  Iris-setosa\n",
       "2           4.7          3.2           1.3          0.2  Iris-setosa\n",
       "3           4.6          3.1           1.5          0.2  Iris-setosa\n",
       "4           5.0          3.6           1.4          0.2  Iris-setosa"
      ]
     },
     "execution_count": 2,
     "metadata": {},
     "output_type": "execute_result"
    }
   ],
   "source": [
    "colnames = ['sepal_length', 'sepal_width', 'petal_length', 'petal_width', 'class_label']\n",
    "iris_df = pd.read_csv('iris.csv', names = colnames, header = None)\n",
    "iris_df.head(5)"
   ]
  },
  {
   "cell_type": "markdown",
   "id": "b3c945b5",
   "metadata": {},
   "source": [
    "**Converting categorical data into numerical data (class_label column)**"
   ]
  },
  {
   "cell_type": "code",
   "execution_count": 3,
   "id": "f35dde42",
   "metadata": {},
   "outputs": [],
   "source": [
    "iris_df['class_label'] = iris_df.class_label.map({'Iris-setosa':0, 'Iris-versicolor':1, 'Iris-virginica':2})"
   ]
  },
  {
   "cell_type": "code",
   "execution_count": 4,
   "id": "abb99038",
   "metadata": {},
   "outputs": [
    {
     "data": {
      "text/html": [
       "<div>\n",
       "<style scoped>\n",
       "    .dataframe tbody tr th:only-of-type {\n",
       "        vertical-align: middle;\n",
       "    }\n",
       "\n",
       "    .dataframe tbody tr th {\n",
       "        vertical-align: top;\n",
       "    }\n",
       "\n",
       "    .dataframe thead th {\n",
       "        text-align: right;\n",
       "    }\n",
       "</style>\n",
       "<table border=\"1\" class=\"dataframe\">\n",
       "  <thead>\n",
       "    <tr style=\"text-align: right;\">\n",
       "      <th></th>\n",
       "      <th>sepal_length</th>\n",
       "      <th>sepal_width</th>\n",
       "      <th>petal_length</th>\n",
       "      <th>petal_width</th>\n",
       "      <th>class_label</th>\n",
       "    </tr>\n",
       "  </thead>\n",
       "  <tbody>\n",
       "    <tr>\n",
       "      <th>0</th>\n",
       "      <td>5.1</td>\n",
       "      <td>3.5</td>\n",
       "      <td>1.4</td>\n",
       "      <td>0.2</td>\n",
       "      <td>0</td>\n",
       "    </tr>\n",
       "    <tr>\n",
       "      <th>1</th>\n",
       "      <td>4.9</td>\n",
       "      <td>3.0</td>\n",
       "      <td>1.4</td>\n",
       "      <td>0.2</td>\n",
       "      <td>0</td>\n",
       "    </tr>\n",
       "    <tr>\n",
       "      <th>2</th>\n",
       "      <td>4.7</td>\n",
       "      <td>3.2</td>\n",
       "      <td>1.3</td>\n",
       "      <td>0.2</td>\n",
       "      <td>0</td>\n",
       "    </tr>\n",
       "    <tr>\n",
       "      <th>3</th>\n",
       "      <td>4.6</td>\n",
       "      <td>3.1</td>\n",
       "      <td>1.5</td>\n",
       "      <td>0.2</td>\n",
       "      <td>0</td>\n",
       "    </tr>\n",
       "    <tr>\n",
       "      <th>4</th>\n",
       "      <td>5.0</td>\n",
       "      <td>3.6</td>\n",
       "      <td>1.4</td>\n",
       "      <td>0.2</td>\n",
       "      <td>0</td>\n",
       "    </tr>\n",
       "  </tbody>\n",
       "</table>\n",
       "</div>"
      ],
      "text/plain": [
       "   sepal_length  sepal_width  petal_length  petal_width  class_label\n",
       "0           5.1          3.5           1.4          0.2            0\n",
       "1           4.9          3.0           1.4          0.2            0\n",
       "2           4.7          3.2           1.3          0.2            0\n",
       "3           4.6          3.1           1.5          0.2            0\n",
       "4           5.0          3.6           1.4          0.2            0"
      ]
     },
     "execution_count": 4,
     "metadata": {},
     "output_type": "execute_result"
    }
   ],
   "source": [
    "iris_df.head(5)"
   ]
  },
  {
   "cell_type": "markdown",
   "id": "afd33857",
   "metadata": {},
   "source": [
    "**Spliting the dataset into train and test sets.**"
   ]
  },
  {
   "cell_type": "code",
   "execution_count": 5,
   "id": "3f2e20e5",
   "metadata": {},
   "outputs": [
    {
     "data": {
      "text/plain": [
       "((150, 4), (150,))"
      ]
     },
     "execution_count": 5,
     "metadata": {},
     "output_type": "execute_result"
    }
   ],
   "source": [
    "from sklearn.model_selection import train_test_split\n",
    "\n",
    "X = iris_df.iloc[:, 0:4]\n",
    "y = iris_df['class_label']\n",
    "\n",
    "X.shape, y.shape"
   ]
  },
  {
   "cell_type": "code",
   "execution_count": 6,
   "id": "a2f0c595",
   "metadata": {},
   "outputs": [],
   "source": [
    "X = X.to_numpy()\n",
    "y = y.to_numpy()"
   ]
  },
  {
   "cell_type": "code",
   "execution_count": 7,
   "id": "a7b66ae4",
   "metadata": {},
   "outputs": [],
   "source": [
    "# X, y"
   ]
  },
  {
   "cell_type": "markdown",
   "id": "88b7eda6",
   "metadata": {},
   "source": [
    "**Stratified sampling - makeing sure that labels are distributed evenly in train and test data**"
   ]
  },
  {
   "cell_type": "code",
   "execution_count": 8,
   "id": "abc7d0d4",
   "metadata": {},
   "outputs": [
    {
     "data": {
      "text/plain": [
       "((120, 2), (30, 2), (120,), (30,))"
      ]
     },
     "execution_count": 8,
     "metadata": {},
     "output_type": "execute_result"
    }
   ],
   "source": [
    "X_train, X_test, y_train, y_test = train_test_split(X, y, stratify = y,test_size = 0.20, random_state = 0)\n",
    "\n",
    "# using 1st two features\n",
    "X_train = X_train[:, :2]\n",
    "X_test = X_test[:, :2]\n",
    "\n",
    "X_train.shape, X_test.shape, y_train.shape, y_test.shape"
   ]
  },
  {
   "cell_type": "code",
   "execution_count": 9,
   "id": "c3baeb0e",
   "metadata": {},
   "outputs": [],
   "source": [
    "# X[:, 0]"
   ]
  },
  {
   "cell_type": "markdown",
   "id": "7128e07d",
   "metadata": {},
   "source": [
    "**Implement the k-nearest neighbors algorithm**"
   ]
  },
  {
   "cell_type": "code",
   "execution_count": 10,
   "id": "913a1ec4",
   "metadata": {},
   "outputs": [],
   "source": [
    "import numpy as np\n",
    "import statistics\n",
    "\n",
    "class KNN:\n",
    "\n",
    "    def __init__(self, k, distance_method='euclidean_distance', voting_method='majority', p = 3):\n",
    "        self._k = k\n",
    "        self._distance_method = distance_method\n",
    "        self._voting_method = voting_method\n",
    "        self._p = p\n",
    "\n",
    "    # Euclidean distance\n",
    "    def _euclidean_distance(self, a: float, b: float):\n",
    "        return np.sqrt(np.sum((a - b) ** 2))\n",
    "    \n",
    "    # Manhattan distance\n",
    "    def _manhattan_distance(self, a: float, b: float):\n",
    "        return np.sum(np.abs(e1-e2) for e1, e2 in zip(a,b))\n",
    "        \n",
    "    # Minkowski distance\n",
    "    def _minkowski_distance(self, a: float, b: float):\n",
    "        return np.sum(np.abs(e1-e2)**self._p for e1, e2 in zip(a,b))**(1/self._p)\n",
    "        \n",
    "    \n",
    "    def fit(self, X_train, y_train):\n",
    "        self._X_train = X_train\n",
    "        self._y_train = y_train\n",
    "\n",
    "    def predict(self, X_test):\n",
    "        y_test = []\n",
    "\n",
    "        X_test = X_test\n",
    "\n",
    "        for row in X_test:\n",
    "            if self._distance_method == 'manhattan_distance':\n",
    "                distances = [self._manhattan_distance(row, training) for training in self._X_train]\n",
    "            elif self._distance_method == 'minkowski_distance':\n",
    "                distances = [self._minkowski_distance(row, training) for training in self._X_train]\n",
    "            else:\n",
    "                distances = [self._euclidean_distance(row, training) for training in self._X_train]\n",
    "\n",
    "            # rotated sort\n",
    "            sorted_index = np.argsort(distances)[: self._k]\n",
    "\n",
    "            # getting the neighbours\n",
    "            neighbors = [self._y_train[i] for i in sorted_index]\n",
    "\n",
    "            # get the most used label\n",
    "            common = sorted(neighbors, reverse=True)\n",
    "\n",
    "            # predicted label\n",
    "            if self._voting_method == 'majority':\n",
    "                y_test.append(common[0])\n",
    "            elif self._voting_method == 'median':                \n",
    "                y_test.append(statistics.median(common))\n",
    "                \n",
    "        return y_test"
   ]
  },
  {
   "cell_type": "markdown",
   "id": "464cb628",
   "metadata": {},
   "source": [
    "**(a) Compare all four features distribution in each iris class using boxplots.**"
   ]
  },
  {
   "cell_type": "code",
   "execution_count": 11,
   "id": "905638cb",
   "metadata": {},
   "outputs": [
    {
     "data": {
      "text/html": [
       "<div>\n",
       "<style scoped>\n",
       "    .dataframe tbody tr th:only-of-type {\n",
       "        vertical-align: middle;\n",
       "    }\n",
       "\n",
       "    .dataframe tbody tr th {\n",
       "        vertical-align: top;\n",
       "    }\n",
       "\n",
       "    .dataframe thead th {\n",
       "        text-align: right;\n",
       "    }\n",
       "</style>\n",
       "<table border=\"1\" class=\"dataframe\">\n",
       "  <thead>\n",
       "    <tr style=\"text-align: right;\">\n",
       "      <th></th>\n",
       "      <th>sepal_length</th>\n",
       "      <th>sepal_width</th>\n",
       "      <th>petal_length</th>\n",
       "      <th>petal_width</th>\n",
       "      <th>class_label</th>\n",
       "    </tr>\n",
       "  </thead>\n",
       "  <tbody>\n",
       "    <tr>\n",
       "      <th>0</th>\n",
       "      <td>5.1</td>\n",
       "      <td>3.5</td>\n",
       "      <td>1.4</td>\n",
       "      <td>0.2</td>\n",
       "      <td>0</td>\n",
       "    </tr>\n",
       "    <tr>\n",
       "      <th>1</th>\n",
       "      <td>4.9</td>\n",
       "      <td>3.0</td>\n",
       "      <td>1.4</td>\n",
       "      <td>0.2</td>\n",
       "      <td>0</td>\n",
       "    </tr>\n",
       "    <tr>\n",
       "      <th>2</th>\n",
       "      <td>4.7</td>\n",
       "      <td>3.2</td>\n",
       "      <td>1.3</td>\n",
       "      <td>0.2</td>\n",
       "      <td>0</td>\n",
       "    </tr>\n",
       "    <tr>\n",
       "      <th>3</th>\n",
       "      <td>4.6</td>\n",
       "      <td>3.1</td>\n",
       "      <td>1.5</td>\n",
       "      <td>0.2</td>\n",
       "      <td>0</td>\n",
       "    </tr>\n",
       "    <tr>\n",
       "      <th>4</th>\n",
       "      <td>5.0</td>\n",
       "      <td>3.6</td>\n",
       "      <td>1.4</td>\n",
       "      <td>0.2</td>\n",
       "      <td>0</td>\n",
       "    </tr>\n",
       "  </tbody>\n",
       "</table>\n",
       "</div>"
      ],
      "text/plain": [
       "   sepal_length  sepal_width  petal_length  petal_width  class_label\n",
       "0           5.1          3.5           1.4          0.2            0\n",
       "1           4.9          3.0           1.4          0.2            0\n",
       "2           4.7          3.2           1.3          0.2            0\n",
       "3           4.6          3.1           1.5          0.2            0\n",
       "4           5.0          3.6           1.4          0.2            0"
      ]
     },
     "execution_count": 11,
     "metadata": {},
     "output_type": "execute_result"
    }
   ],
   "source": [
    "#Creating separate dataframe for each Iris Class\n",
    "iris_setosa = iris_df.loc[iris_df[\"class_label\"] == 0]\n",
    "iris_versicolor = iris_df.loc[iris_df[\"class_label\"] == 1]\n",
    "iris_virginica = iris_df.loc[iris_df[\"class_label\"] == 2]\n",
    "iris_setosa.head(5)"
   ]
  },
  {
   "cell_type": "code",
   "execution_count": 12,
   "id": "a9676765",
   "metadata": {},
   "outputs": [],
   "source": [
    "# using iloc in order to remove class labels(last column) from individual dataframes\n",
    "# iris_setosa.iloc[:, 0:-1]"
   ]
  },
  {
   "cell_type": "markdown",
   "id": "b74ac684",
   "metadata": {},
   "source": [
    "**Boxplot**"
   ]
  },
  {
   "cell_type": "code",
   "execution_count": 13,
   "id": "58df471a",
   "metadata": {},
   "outputs": [
    {
     "data": {
      "image/png": "[encoded data removed]",
      "text/plain": [
       "<Figure size 1152x648 with 3 Axes>"
      ]
     },
     "metadata": {},
     "output_type": "display_data"
    }
   ],
   "source": [
    "fig, axes = plt.subplots(1, 3, figsize=(16,9))\n",
    "sns.boxplot(data=iris_setosa.iloc[:, 0:-1], color = 'g', ax=axes[0]).set_title('iris_setosa')\n",
    "sns.boxplot(data=iris_versicolor.iloc[:, 0:-1], color = 'b', ax=axes[1]).set_title('iris_versicolor')\n",
    "sns.boxplot(data=iris_virginica.iloc[:, 0:-1], color = 'r', ax=axes[2]).set_title('iris_virginica')\n",
    "plt.show()"
   ]
  },
  {
   "cell_type": "markdown",
   "id": "fb32214c",
   "metadata": {},
   "source": [
    "**Conclusion:**\n",
    "Comparison of all four features distribution in each iris class using boxplots.\n",
    "\n",
    "Observing the boxplot, following are the observation :\n",
    "\n",
    "-The Setosa Class usually has few outliers with smaller features.\n",
    "\n",
    "-The Versicolor species has average features\n",
    "\n",
    "-The Virginica species has the longest features widths and lengths as compared to others.\n"
   ]
  },
  {
   "cell_type": "markdown",
   "id": "888522c6",
   "metadata": {},
   "source": [
    "**(b) Start with k = 1, plot the decision boundary using the first two features (Sepal\n",
    "length and width)**"
   ]
  },
  {
   "cell_type": "markdown",
   "id": "b0695c12",
   "metadata": {},
   "source": [
    "**Scatter Plot and Decision Bounday**"
   ]
  },
  {
   "cell_type": "code",
   "execution_count": 14,
   "id": "d113e484",
   "metadata": {},
   "outputs": [],
   "source": [
    "# Scatter plot\n",
    "from matplotlib.colors import ListedColormap\n",
    "\n",
    "def scatter_plot(X, y, X_trn, y_trn, X_test, y_test, k, feature_idxs, knn, h=0.05):\n",
    "    classes = list(set(y))\n",
    "    legend = ['Setosa', 'Versicolour', 'Virginica']\n",
    "    cmap_light = ListedColormap(['#FFAAAA', '#AAFFAA', '#AAAAFF'])\n",
    "    colours = ['red', 'green', 'blue']\n",
    "    pad = 0.5\n",
    "    x_min, x_max = X[:, feature_idxs[0]].min() - pad, X[:, feature_idxs[0]].max() + pad\n",
    "    y_min, y_max = X[:, feature_idxs[1]].min() - pad, X[:, feature_idxs[1]].max() + pad\n",
    "    xx, yy = np.meshgrid(np.arange(x_min, x_max, h),\n",
    "                         np.arange(y_min, y_max, h))\n",
    "    Z = knn.predict(np.c_[xx.ravel(), yy.ravel()])\n",
    "    Z = np.array(Z).reshape(xx.shape)\n",
    "\n",
    "    plt.figure(figsize=(8, 8))\n",
    "    plt.pcolormesh(xx, yy, Z, cmap=cmap_light)\n",
    "    for i in classes:\n",
    "        idx = np.where(y_trn == classes[i])\n",
    "        plt.scatter(X_trn[idx, 0],\n",
    "                    X_trn[idx, 1],\n",
    "                    c=colours[i],\n",
    "                    label=legend[i]+'_train',\n",
    "                    marker='o', s=20)\n",
    "    for i in classes:\n",
    "        idx = np.where(y_test == classes[i])\n",
    "        plt.scatter(X_test[idx, 0],\n",
    "                    X_test[idx, 1],\n",
    "                    c=colours[i], label=legend[i]+'_test',\n",
    "                    marker='x', s=20)\n",
    "    plt.legend()\n",
    "    plt.xlabel(\"Sepal length\", fontsize=16)\n",
    "    plt.ylabel(\"Sepal width\", fontsize=16)\n",
    "    plt.title(\"kNN classification (k = {})\"\n",
    "              .format(k), fontsize=16)\n",
    "    plt.show()"
   ]
  },
  {
   "cell_type": "markdown",
   "id": "ae633690",
   "metadata": {},
   "source": [
    "**With k = 1, plotting the decision boundary using the first two features (Sepal\n",
    "length and width)**"
   ]
  },
  {
   "cell_type": "code",
   "execution_count": 15,
   "id": "9a0292a9",
   "metadata": {},
   "outputs": [
    {
     "name": "stderr",
     "output_type": "stream",
     "text": [
      "C:\\Users\\nehad\\AppData\\Local\\Temp/ipykernel_10644/2501547363.py:18: MatplotlibDeprecationWarning: shading='flat' when X and Y have the same dimensions as C is deprecated since 3.3.  Either specify the corners of the quadrilaterals with X and Y, or pass shading='auto', 'nearest' or 'gouraud', or set rcParams['pcolor.shading'].  This will become an error two minor releases later.\n",
      "  plt.pcolormesh(xx, yy, Z, cmap=cmap_light)\n"
     ]
    },
    {
     "data": {
      "image/png": "[encoded data removed]",
      "text/plain": [
       "<Figure size 576x576 with 1 Axes>"
      ]
     },
     "metadata": {},
     "output_type": "display_data"
    }
   ],
   "source": [
    "k = 1\n",
    "KNN_Classifier1 = KNN(k)\n",
    "KNN_Classifier1.fit(X_train, y_train)\n",
    "prediction = KNN_Classifier1.predict(X_test)\n",
    "\n",
    "\n",
    "feature_idxs = [0, 1]\n",
    "scatter_plot(X, y, X_train, y_train, X_test, y_test, k, feature_idxs, KNN_Classifier1)\n"
   ]
  },
  {
   "cell_type": "markdown",
   "id": "4166fd8a",
   "metadata": {},
   "source": [
    "**(c) Perform the prediction using k = 2, 4, 6, 10 and plot the decision boundaries.\n",
    "How does the decision boundary change by increasing the number of neighbors?**"
   ]
  },
  {
   "cell_type": "code",
   "execution_count": 16,
   "id": "588026ba",
   "metadata": {},
   "outputs": [
    {
     "name": "stderr",
     "output_type": "stream",
     "text": [
      "C:\\Users\\nehad\\AppData\\Local\\Temp/ipykernel_10644/2501547363.py:18: MatplotlibDeprecationWarning: shading='flat' when X and Y have the same dimensions as C is deprecated since 3.3.  Either specify the corners of the quadrilaterals with X and Y, or pass shading='auto', 'nearest' or 'gouraud', or set rcParams['pcolor.shading'].  This will become an error two minor releases later.\n",
      "  plt.pcolormesh(xx, yy, Z, cmap=cmap_light)\n"
     ]
    },
    {
     "data": {
      "image/png": "[encoded data removed]",
      "text/plain": [
       "<Figure size 576x576 with 1 Axes>"
      ]
     },
     "metadata": {},
     "output_type": "display_data"
    },
    {
     "data": {
      "image/png": "[encoded data removed]",
      "text/plain": [
       "<Figure size 576x576 with 1 Axes>"
      ]
     },
     "metadata": {},
     "output_type": "display_data"
    },
    {
     "data": {
      "image/png": "[encoded data removed]",
      "text/plain": [
       "<Figure size 576x576 with 1 Axes>"
      ]
     },
     "metadata": {},
     "output_type": "display_data"
    },
    {
     "data": {
      "image/png": "[encoded data removed]",
      "text/plain": [
       "<Figure size 576x576 with 1 Axes>"
      ]
     },
     "metadata": {},
     "output_type": "display_data"
    }
   ],
   "source": [
    "k_list = [2, 4, 6, 10]\n",
    "feature_idxs = [0, 1]\n",
    "\n",
    "\n",
    "for k in k_list:\n",
    "    KNN_Classifier = KNN(k)\n",
    "    KNN_Classifier.fit(X_train, y_train)\n",
    "    prediction = KNN_Classifier.predict(X_test)\n",
    "    scatter_plot(X, y, X_train, y_train, X_test, y_test, k, feature_idxs, KNN_Classifier)\n",
    "   "
   ]
  },
  {
   "cell_type": "markdown",
   "id": "ad919177",
   "metadata": {},
   "source": [
    "**Conclusion:**\n",
    "The decision boundary becomes more smooth between the different classes on increasing the value of k which means lower variance but increased bias.\n"
   ]
  },
  {
   "cell_type": "markdown",
   "id": "a9abf747",
   "metadata": {},
   "source": [
    "**(d) For all cases, report accuracy and confusion matrix.**"
   ]
  },
  {
   "cell_type": "code",
   "execution_count": 17,
   "id": "de7c0c84",
   "metadata": {},
   "outputs": [
    {
     "name": "stdout",
     "output_type": "stream",
     "text": [
      "k = 2 \n",
      "Confusion Matrix: \n",
      "[[10  0  0]\n",
      " [ 0  3  7]\n",
      " [ 0  3  7]]\n",
      "Accuracy:  0.6666666666666666\n",
      "------------------------------------\n",
      "k = 4 \n",
      "Confusion Matrix: \n",
      "[[10  0  0]\n",
      " [ 0  3  7]\n",
      " [ 0  1  9]]\n",
      "Accuracy:  0.7333333333333333\n",
      "------------------------------------\n",
      "k = 6 \n",
      "Confusion Matrix: \n",
      "[[10  0  0]\n",
      " [ 0  2  8]\n",
      " [ 0  0 10]]\n",
      "Accuracy:  0.7333333333333333\n",
      "------------------------------------\n",
      "k = 10 \n",
      "Confusion Matrix: \n",
      "[[10  0  0]\n",
      " [ 0  0 10]\n",
      " [ 0  0 10]]\n",
      "Accuracy:  0.6666666666666666\n",
      "------------------------------------\n"
     ]
    }
   ],
   "source": [
    "from sklearn.metrics import accuracy_score\n",
    "import sklearn.metrics as metrics\n",
    "\n",
    "k_list = [2, 4, 6, 10]\n",
    "\n",
    "for k in k_list:\n",
    "    KNN_Classifier = KNN(k)\n",
    "    KNN_Classifier.fit(X_train, y_train)\n",
    "    prediction = KNN_Classifier.predict(X_test)\n",
    "    print(f\"k = {k} \")\n",
    "    print(\"Confusion Matrix: \")\n",
    "    print(metrics.confusion_matrix(y_test, prediction))\n",
    "    print(\"Accuracy: \", metrics.accuracy_score(y_test, prediction))\n",
    "    print(\"------------------------------------\")"
   ]
  },
  {
   "cell_type": "markdown",
   "id": "f838727b",
   "metadata": {},
   "source": [
    "## 2. Bank notes Dataset"
   ]
  },
  {
   "cell_type": "markdown",
   "id": "b256c69a",
   "metadata": {},
   "source": [
    "**Reading the Bank notes dataset and Encoding the class labels**"
   ]
  },
  {
   "cell_type": "code",
   "execution_count": 18,
   "id": "874abe23",
   "metadata": {},
   "outputs": [
    {
     "data": {
      "text/html": [
       "<div>\n",
       "<style scoped>\n",
       "    .dataframe tbody tr th:only-of-type {\n",
       "        vertical-align: middle;\n",
       "    }\n",
       "\n",
       "    .dataframe tbody tr th {\n",
       "        vertical-align: top;\n",
       "    }\n",
       "\n",
       "    .dataframe thead th {\n",
       "        text-align: right;\n",
       "    }\n",
       "</style>\n",
       "<table border=\"1\" class=\"dataframe\">\n",
       "  <thead>\n",
       "    <tr style=\"text-align: right;\">\n",
       "      <th></th>\n",
       "      <th>Variance</th>\n",
       "      <th>Skewness</th>\n",
       "      <th>Kurtosis</th>\n",
       "      <th>Entropy</th>\n",
       "      <th>class_label</th>\n",
       "    </tr>\n",
       "  </thead>\n",
       "  <tbody>\n",
       "    <tr>\n",
       "      <th>0</th>\n",
       "      <td>3.62160</td>\n",
       "      <td>8.6661</td>\n",
       "      <td>-2.8073</td>\n",
       "      <td>-0.44699</td>\n",
       "      <td>0</td>\n",
       "    </tr>\n",
       "    <tr>\n",
       "      <th>1</th>\n",
       "      <td>4.54590</td>\n",
       "      <td>8.1674</td>\n",
       "      <td>-2.4586</td>\n",
       "      <td>-1.46210</td>\n",
       "      <td>0</td>\n",
       "    </tr>\n",
       "    <tr>\n",
       "      <th>2</th>\n",
       "      <td>3.86600</td>\n",
       "      <td>-2.6383</td>\n",
       "      <td>1.9242</td>\n",
       "      <td>0.10645</td>\n",
       "      <td>0</td>\n",
       "    </tr>\n",
       "    <tr>\n",
       "      <th>3</th>\n",
       "      <td>3.45660</td>\n",
       "      <td>9.5228</td>\n",
       "      <td>-4.0112</td>\n",
       "      <td>-3.59440</td>\n",
       "      <td>0</td>\n",
       "    </tr>\n",
       "    <tr>\n",
       "      <th>4</th>\n",
       "      <td>0.32924</td>\n",
       "      <td>-4.4552</td>\n",
       "      <td>4.5718</td>\n",
       "      <td>-0.98880</td>\n",
       "      <td>0</td>\n",
       "    </tr>\n",
       "  </tbody>\n",
       "</table>\n",
       "</div>"
      ],
      "text/plain": [
       "   Variance  Skewness  Kurtosis  Entropy  class_label\n",
       "0   3.62160    8.6661   -2.8073 -0.44699            0\n",
       "1   4.54590    8.1674   -2.4586 -1.46210            0\n",
       "2   3.86600   -2.6383    1.9242  0.10645            0\n",
       "3   3.45660    9.5228   -4.0112 -3.59440            0\n",
       "4   0.32924   -4.4552    4.5718 -0.98880            0"
      ]
     },
     "execution_count": 18,
     "metadata": {},
     "output_type": "execute_result"
    }
   ],
   "source": [
    "colnames = ['Variance', 'Skewness', 'Kurtosis', 'Entropy', 'class_label']\n",
    "banknote_df = pd.read_csv('data_banknote_authentication.csv', names = colnames, header = None)\n",
    "banknote_df.head(5)"
   ]
  },
  {
   "cell_type": "markdown",
   "id": "112bffd2",
   "metadata": {},
   "source": [
    "**Spliting the dataset into train and test sets.**"
   ]
  },
  {
   "cell_type": "code",
   "execution_count": 19,
   "id": "c7a45573",
   "metadata": {},
   "outputs": [
    {
     "data": {
      "text/plain": [
       "((1372, 4), (1372,))"
      ]
     },
     "execution_count": 19,
     "metadata": {},
     "output_type": "execute_result"
    }
   ],
   "source": [
    "from sklearn.model_selection import train_test_split\n",
    "\n",
    "X = banknote_df.iloc[:, 0:4]\n",
    "y = banknote_df['class_label']\n",
    "\n",
    "X.shape, y.shape"
   ]
  },
  {
   "cell_type": "code",
   "execution_count": 20,
   "id": "1ff73690",
   "metadata": {},
   "outputs": [],
   "source": [
    "# X"
   ]
  },
  {
   "cell_type": "code",
   "execution_count": 21,
   "id": "090c0bb6",
   "metadata": {},
   "outputs": [],
   "source": [
    "X = X.to_numpy()\n",
    "y = y.to_numpy()"
   ]
  },
  {
   "cell_type": "code",
   "execution_count": 22,
   "id": "f5175e58",
   "metadata": {},
   "outputs": [
    {
     "data": {
      "text/plain": [
       "((1097, 4), (275, 4), (1097,), (275,))"
      ]
     },
     "execution_count": 22,
     "metadata": {},
     "output_type": "execute_result"
    }
   ],
   "source": [
    "X_train, X_test, y_train, y_test = train_test_split(X, y, stratify = y,test_size = 0.20, random_state = 0)\n",
    "\n",
    "X_train.shape, X_test.shape, y_train.shape, y_test.shape"
   ]
  },
  {
   "cell_type": "markdown",
   "id": "6a56998f",
   "metadata": {},
   "source": [
    "**(a) Perform a 2-nearest neighbor on bank note dataset using 80% of the data as training data and the rest as test. Report the accuracy and confusion matrix.**"
   ]
  },
  {
   "cell_type": "code",
   "execution_count": 23,
   "id": "9124cfe2",
   "metadata": {},
   "outputs": [
    {
     "name": "stdout",
     "output_type": "stream",
     "text": [
      "Confusion Matrix: \n",
      "[[153   0]\n",
      " [  0 122]]\n",
      "Accuracy:  1.0\n",
      "Error rate: Voting method -Using Most common votes: 0.0\n"
     ]
    }
   ],
   "source": [
    "k = 2\n",
    "KNN_Classifier1 = KNN(k)\n",
    "KNN_Classifier1.fit(X_train, y_train)\n",
    "prediction = KNN_Classifier1.predict(X_test)\n",
    "\n",
    "print(\"Confusion Matrix: \")\n",
    "print(metrics.confusion_matrix(y_test, prediction))\n",
    "print(\"Accuracy: \", metrics.accuracy_score(y_test, prediction))\n",
    "print(\"Error rate: Voting method -Using Most common votes:\", (1- metrics.accuracy_score(y_test, prediction)))"
   ]
  },
  {
   "cell_type": "markdown",
   "id": "03db3dec",
   "metadata": {},
   "source": [
    "**(b) Change the majority based voting with a method of your choosing. How does it affect the error rate?**"
   ]
  },
  {
   "cell_type": "code",
   "execution_count": 24,
   "id": "38189c7e",
   "metadata": {},
   "outputs": [
    {
     "name": "stdout",
     "output_type": "stream",
     "text": [
      "Confusion Matrix: \n",
      "[[153   0]\n",
      " [  0 122]]\n",
      "Accuracy:  1.0\n",
      "Error rate: Voting method - Using Median votes: 0.0\n"
     ]
    }
   ],
   "source": [
    "k = 2\n",
    "KNN_Classifier1 = KNN(k, voting_method='median')\n",
    "KNN_Classifier1.fit(X_train, y_train)\n",
    "prediction = KNN_Classifier1.predict(X_test)\n",
    "\n",
    "print(\"Confusion Matrix: \")\n",
    "print(metrics.confusion_matrix(y_test, prediction))\n",
    "print(\"Accuracy: \", metrics.accuracy_score(y_test, prediction))\n",
    "print(\"Error rate: Voting method - Using Median votes:\", (1- metrics.accuracy_score(y_test, prediction)))"
   ]
  },
  {
   "cell_type": "markdown",
   "id": "04d2836f",
   "metadata": {},
   "source": [
    "**Conclusion:**\n",
    "\n",
    "Changing the majority based voting with the Median voting method, this new method did not affect the error rate"
   ]
  },
  {
   "cell_type": "markdown",
   "id": "0894496e",
   "metadata": {},
   "source": [
    "**(c) Use two new distance measures: Manhattan distance and L3 (Minkowski formula for p = 3), and redo the previous step. How does changing the distance function affect the classification?**"
   ]
  },
  {
   "cell_type": "markdown",
   "id": "1c54e5d0",
   "metadata": {},
   "source": [
    "**Using \"Manhattan distance\", Voting method = \"Median\"**  [reported accuracy and confusion matrix]"
   ]
  },
  {
   "cell_type": "code",
   "execution_count": 25,
   "id": "8ed0865e",
   "metadata": {},
   "outputs": [
    {
     "name": "stderr",
     "output_type": "stream",
     "text": [
      "C:\\Users\\nehad\\AppData\\Local\\Temp/ipykernel_10644/3845079202.py:18: DeprecationWarning: Calling np.sum(generator) is deprecated, and in the future will give a different result. Use np.sum(np.fromiter(generator)) or the python sum builtin instead.\n",
      "  return np.sum(np.abs(e1-e2) for e1, e2 in zip(a,b))\n"
     ]
    },
    {
     "name": "stdout",
     "output_type": "stream",
     "text": [
      "Confusion Matrix: \n",
      "[[153   0]\n",
      " [  0 122]]\n",
      "Accuracy:  1.0\n",
      "Error rate: Voting method - Using Median votes: 0.0\n"
     ]
    }
   ],
   "source": [
    "k = 2\n",
    "KNN_Classifier1 = KNN(k, voting_method='median', distance_method = 'manhattan_distance')\n",
    "KNN_Classifier1.fit(X_train, y_train)\n",
    "prediction = KNN_Classifier1.predict(X_test)\n",
    "\n",
    "print(\"Confusion Matrix: \")\n",
    "print(metrics.confusion_matrix(y_test, prediction))\n",
    "print(\"Accuracy: \", metrics.accuracy_score(y_test, prediction))\n",
    "print(\"Error rate: Voting method - Using Median votes:\", (1- metrics.accuracy_score(y_test, prediction)))"
   ]
  },
  {
   "cell_type": "markdown",
   "id": "d1ccbb74",
   "metadata": {},
   "source": [
    "**Using \"Minkowski formula for p = 3\", Voting method = \"Median\"** [reported accuracy and confusion matrix]"
   ]
  },
  {
   "cell_type": "code",
   "execution_count": 26,
   "id": "23da49b0",
   "metadata": {},
   "outputs": [
    {
     "name": "stderr",
     "output_type": "stream",
     "text": [
      "C:\\Users\\nehad\\AppData\\Local\\Temp/ipykernel_10644/3845079202.py:22: DeprecationWarning: Calling np.sum(generator) is deprecated, and in the future will give a different result. Use np.sum(np.fromiter(generator)) or the python sum builtin instead.\n",
      "  return np.sum(np.abs(e1-e2)**self._p for e1, e2 in zip(a,b))**(1/self._p)\n"
     ]
    },
    {
     "name": "stdout",
     "output_type": "stream",
     "text": [
      "Confusion Matrix: \n",
      "[[153   0]\n",
      " [  0 122]]\n",
      "Accuracy:  1.0\n",
      "Error rate: Voting method - Using Median votes: 0.0\n"
     ]
    }
   ],
   "source": [
    "k = 2\n",
    "KNN_Classifier1 = KNN(k, voting_method='median', distance_method = 'minkowski_distance', p = 3)\n",
    "KNN_Classifier1.fit(X_train, y_train)\n",
    "prediction = KNN_Classifier1.predict(X_test)\n",
    "\n",
    "print(\"Confusion Matrix: \")\n",
    "print(metrics.confusion_matrix(y_test, prediction))\n",
    "print(\"Accuracy: \", metrics.accuracy_score(y_test, prediction))\n",
    "print(\"Error rate: Voting method - Using Median votes:\", (1- metrics.accuracy_score(y_test, prediction)))"
   ]
  },
  {
   "cell_type": "markdown",
   "id": "a86afa24",
   "metadata": {},
   "source": [
    "**Conclusion**\n",
    "\n",
    "Changing the distance function did **not have any affect** on the classification"
   ]
  },
  {
   "cell_type": "markdown",
   "id": "593af12c",
   "metadata": {},
   "source": [
    "## 3. MNIST Dataset"
   ]
  },
  {
   "cell_type": "markdown",
   "id": "28cbb2b8",
   "metadata": {},
   "source": [
    "**Reading the MNIST dataset and Encoding the class labels**"
   ]
  },
  {
   "cell_type": "code",
   "execution_count": 27,
   "id": "d56f45f7",
   "metadata": {},
   "outputs": [],
   "source": [
    "MNIST_df_train = pd.read_csv('mnist_train.csv', header = None)\n",
    "MNIST_df_test = pd.read_csv('mnist_test.csv', header = None)\n",
    "\n",
    "# MNIST_df_train.head(5)"
   ]
  },
  {
   "cell_type": "markdown",
   "id": "71a13bc6",
   "metadata": {},
   "source": [
    "**Perform the 2-nearest neighbors on MNIST dataset using 500, 1000, 2500, 5000, and 10000 training examples.(You can use 1000 test examples)**"
   ]
  },
  {
   "cell_type": "code",
   "execution_count": 28,
   "id": "49f075da",
   "metadata": {},
   "outputs": [
    {
     "name": "stdout",
     "output_type": "stream",
     "text": [
      "Training data: 500, Testing data: 1000 \n",
      "Error rate: 0.19999999999999996\n",
      "\n",
      "\n",
      "Training data: 1000, Testing data: 1000 \n",
      "Error rate: 0.138\n",
      "\n",
      "\n",
      "Training data: 2500, Testing data: 1000 \n",
      "Error rate: 0.09499999999999997\n",
      "\n",
      "\n",
      "Training data: 5000, Testing data: 1000 \n",
      "Error rate: 0.06899999999999995\n",
      "\n",
      "\n",
      "Training data: 10000, Testing data: 1000 \n",
      "Error rate: 0.05700000000000005\n",
      "\n",
      "\n"
     ]
    }
   ],
   "source": [
    "k = 2\n",
    "errors = []\n",
    "\n",
    "# Taking 1000 samples from the testing data and dividing it into X_test and y_test\n",
    "sample_df_test = MNIST_df_test.sample(n=1000)\n",
    "X_test = (sample_df_test.iloc[:, 1:]).to_numpy()\n",
    "y_test = (sample_df_test.iloc[:, 0:1]).to_numpy()\n",
    "\n",
    "# Increasing training data size and dividing it into X_train and y_train\n",
    "n_list = [500, 1000, 2500, 5000, 10000]\n",
    "\n",
    "# Running KNN and reporting the error rate for different training data\n",
    "for n in n_list:\n",
    "    sample_df_train = MNIST_df_train.sample(n)\n",
    "    X_train = (sample_df_train.iloc[:, 1:]).to_numpy()\n",
    "    y_train = (sample_df_train.iloc[:, 0:1]).to_numpy()\n",
    "    KNN_Classifier1 = KNN(k)\n",
    "    KNN_Classifier1.fit(X_train, y_train)\n",
    "    prediction = KNN_Classifier1.predict(X_test)\n",
    "    print(f\"Training data: {n}, Testing data: {1000} \")\n",
    "    err = (1 - metrics.accuracy_score(y_test, prediction))\n",
    "    errors.append(err)\n",
    "    print(\"Error rate:\", err)\n",
    "    print(\"\\n\")\n"
   ]
  },
  {
   "cell_type": "markdown",
   "id": "c4b18d0e",
   "metadata": {},
   "source": [
    "**Pot : Number of training Data vs Errors**"
   ]
  },
  {
   "cell_type": "code",
   "execution_count": 29,
   "id": "603d1954",
   "metadata": {},
   "outputs": [
    {
     "data": {
      "image/png": "[encoded data removed]",
      "text/plain": [
       "<Figure size 432x288 with 1 Axes>"
      ]
     },
     "metadata": {},
     "output_type": "display_data"
    }
   ],
   "source": [
    "plt.plot(n_list, errors) \n",
    "plt.xlabel(\"n\") \n",
    "plt.ylabel(\"errors\")\n",
    "plt.show()"
   ]
  },
  {
   "cell_type": "markdown",
   "id": "bae7dcc5",
   "metadata": {},
   "source": [
    "**How does the classification error change with number of training example?**"
   ]
  },
  {
   "cell_type": "markdown",
   "id": "72540dac",
   "metadata": {},
   "source": [
    "**Conclusion**\n",
    "\n",
    "Once more training examples were added (increased from 500 to 10000), the test-error rate lowered for the model"
   ]
  },
  {
   "cell_type": "markdown",
   "id": "bb281587",
   "metadata": {},
   "source": [
    "**(b) Report confusion matrix of the best model?**"
   ]
  },
  {
   "cell_type": "markdown",
   "id": "a8021e72",
   "metadata": {},
   "source": [
    "Best model comes when I am using 10000 training data (Test data used is 1000)"
   ]
  },
  {
   "cell_type": "code",
   "execution_count": 30,
   "id": "e7e6340b",
   "metadata": {},
   "outputs": [
    {
     "name": "stdout",
     "output_type": "stream",
     "text": [
      "Training data: 10000, Testing data: 1000 \n",
      "Confusion Matrix: \n",
      "[[ 97   1   0   1   0   1   5   0   0   1]\n",
      " [  0 111   0   0   0   0   0   0   0   0]\n",
      " [  2   3  88   4   2   0   1   5   5   1]\n",
      " [  0   1   2  78   0   2   0   1   4   2]\n",
      " [  0   1   0   0  67   0   2   5   0  23]\n",
      " [  0   1   0   0   0  74   4   1   2   1]\n",
      " [  0   3   0   0   0   0  74   1   0   0]\n",
      " [  0   0   0   0   0   0   0 102   0   8]\n",
      " [  0   1   0   1   0   7   2   0  93  11]\n",
      " [  1   0   0   0   2   1   0   2   1  91]]\n"
     ]
    }
   ],
   "source": [
    "sample_df_train = MNIST_df_train.sample(1000)\n",
    "X_train = (sample_df_train.iloc[:, 1:]).to_numpy()\n",
    "y_train = (sample_df_train.iloc[:, 0:1]).to_numpy()\n",
    "KNN_Classifier1 = KNN(k)\n",
    "KNN_Classifier1.fit(X_train, y_train)\n",
    "prediction = KNN_Classifier1.predict(X_test)\n",
    "print(f\"Training data: {n}, Testing data: {1000} \")\n",
    "print(\"Confusion Matrix: \")\n",
    "print(metrics.confusion_matrix(y_test, prediction))"
   ]
  }
 ],
 "metadata": {
  "kernelspec": {
   "display_name": "Python 3",
   "language": "python",
   "name": "python3"
  },
  "language_info": {
   "codemirror_mode": {
    "name": "ipython",
    "version": 3
   },
   "file_extension": ".py",
   "mimetype": "text/x-python",
   "name": "python",
   "nbconvert_exporter": "python",
   "pygments_lexer": "ipython3",
   "version": "3.8.8"
  }
 },
 "nbformat": 4,
 "nbformat_minor": 5
}
